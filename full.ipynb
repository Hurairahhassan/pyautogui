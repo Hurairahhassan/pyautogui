{
 "cells": [
  {
   "cell_type": "code",
   "execution_count": 1,
   "metadata": {},
   "outputs": [],
   "source": [
    "import webbrowser\n",
    "import pyautogui\n",
    "import time\n",
    "\n",
    "def click_gig(link, x, y):\n",
    "    # Open link on web browser\n",
    "    webbrowser.open(link)\n",
    "    \n",
    "    for _ in range(2):\n",
    "        # Move to cursor on the gig\n",
    "        pyautogui.moveTo(x=x, y=y, duration=1.5)\n",
    "        \n",
    "        # Click on the gig\n",
    "        pyautogui.rightClick(x=x, y=y, duration=1.5)\n",
    "        \n",
    "        # Press down key\n",
    "        pyautogui.press(\"down\")\n",
    "        \n",
    "        # Press enter key\n",
    "        pyautogui.press(\"enter\")\n",
    "\n",
    "        time.sleep(2)\n",
    "    # Rest of the code after the loop\n",
    "    \n",
    "# Example usage\n",
    "links = [\"https://www.fiverr.com/digitl_service?source=gig_page\",\n",
    "    \"https://www.fiverr.com/hamidkhan13?source=gig_page\",\n",
    "    \"https://www.fiverr.com/tahseen137?source=gig_page\",\n",
    "    \"https://www.fiverr.com/kaleemusman?source=gig_page\",\n",
    "    \"https://www.fiverr.com/taimourshah300?source=gig_page\",\n",
    "    \"https://www.fiverr.com/rajpoutgraphic?source=gig_page\",\n",
    "    \"https://www.fiverr.com/faiyzhan?fiverr.com/ammaddev?source=gig_page\",\n",
    "    'https://www.fiverr.com/amazon_einstein?source=gig_page',\n",
    " 'https://www.fiverr.com/faizan_sumra?source=gig_page']\n",
    "\n",
    "[click_gig(links[0], x, y) for x, y in [(600, 401), (800, 401)]]\n",
    "[click_gig(links[1], x, y) for x, y in [(600, 401)]]\n",
    "[click_gig(links[2], x, y) for x, y in [(600, 401), (800, 401)]]\n",
    "[click_gig(links[3], x, y) for x, y in [(600, 401), (800, 401)]]\n",
    "[click_gig(links[4], x, y) for x, y in [(600, 401), (800, 401), (1000, 401), (600, 700),(800, 700),(1050, 700)]]\n",
    "[click_gig(links[5], x, y) for x, y in [(600, 401), (800, 401), (1000, 401), (600, 700)]]\n",
    "[click_gig(links[6], x, y) for x, y in [(600, 401)]]\n",
    "[click_gig(links[7], x, y) for x, y in [(600, 401), (800, 401), (1000, 401)]]\n",
    "[click_gig(links[8], x, y) for x, y in [(600, 401)]]\n",
    "\n",
    "# move to key to closs button\n",
    "pyautogui.moveTo(x=1253, y=11, duration=2)\n",
    "# click on the closs button\n",
    "pyautogui.click(x=1253, y=11, duration=2)"
   ]
  }
 ],
 "metadata": {
  "kernelspec": {
   "display_name": "Hurairah",
   "language": "python",
   "name": "python3"
  },
  "language_info": {
   "codemirror_mode": {
    "name": "ipython",
    "version": 3
   },
   "file_extension": ".py",
   "mimetype": "text/x-python",
   "name": "python",
   "nbconvert_exporter": "python",
   "pygments_lexer": "ipython3",
   "version": "3.11.3"
  },
  "orig_nbformat": 4
 },
 "nbformat": 4,
 "nbformat_minor": 2
}
